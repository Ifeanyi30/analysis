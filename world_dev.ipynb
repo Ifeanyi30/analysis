{
 "metadata": {
  "language_info": {
   "codemirror_mode": {
    "name": "ipython",
    "version": 3
   },
   "file_extension": ".py",
   "mimetype": "text/x-python",
   "name": "python",
   "nbconvert_exporter": "python",
   "pygments_lexer": "ipython3",
   "version": "3.8.5-final"
  },
  "orig_nbformat": 2,
  "kernelspec": {
   "name": "python3",
   "display_name": "Python 3.8.5 32-bit",
   "metadata": {
    "interpreter": {
     "hash": "9539c093ef828b0f20788337973b94eabc0eb7106c27c15614a32ad216683cfa"
    }
   }
  }
 },
 "nbformat": 4,
 "nbformat_minor": 2,
 "cells": [
  {
   "cell_type": "code",
   "execution_count": 22,
   "metadata": {},
   "outputs": [
    {
     "output_type": "execute_result",
     "data": {
      "text/plain": [
       "       country  year  population      cont  life_exp       gdp_cap\n",
       "1  Afghanistan  2007  31889923.0      Asia    43.828    974.580338\n",
       "2      Albania  2007   3600523.0    Europe    76.423   5937.029526\n",
       "3      Algeria  2007  33333216.0    Africa    72.301   6223.367465\n",
       "4       Angola  2007  12420476.0    Africa    42.731   4797.231267\n",
       "5    Argentina  2007  40301927.0  Americas    75.320  12779.379640"
      ],
      "text/html": "<div>\n<style scoped>\n    .dataframe tbody tr th:only-of-type {\n        vertical-align: middle;\n    }\n\n    .dataframe tbody tr th {\n        vertical-align: top;\n    }\n\n    .dataframe thead th {\n        text-align: right;\n    }\n</style>\n<table border=\"1\" class=\"dataframe\">\n  <thead>\n    <tr style=\"text-align: right;\">\n      <th></th>\n      <th>country</th>\n      <th>year</th>\n      <th>population</th>\n      <th>cont</th>\n      <th>life_exp</th>\n      <th>gdp_cap</th>\n    </tr>\n  </thead>\n  <tbody>\n    <tr>\n      <th>1</th>\n      <td>Afghanistan</td>\n      <td>2007</td>\n      <td>31889923.0</td>\n      <td>Asia</td>\n      <td>43.828</td>\n      <td>974.580338</td>\n    </tr>\n    <tr>\n      <th>2</th>\n      <td>Albania</td>\n      <td>2007</td>\n      <td>3600523.0</td>\n      <td>Europe</td>\n      <td>76.423</td>\n      <td>5937.029526</td>\n    </tr>\n    <tr>\n      <th>3</th>\n      <td>Algeria</td>\n      <td>2007</td>\n      <td>33333216.0</td>\n      <td>Africa</td>\n      <td>72.301</td>\n      <td>6223.367465</td>\n    </tr>\n    <tr>\n      <th>4</th>\n      <td>Angola</td>\n      <td>2007</td>\n      <td>12420476.0</td>\n      <td>Africa</td>\n      <td>42.731</td>\n      <td>4797.231267</td>\n    </tr>\n    <tr>\n      <th>5</th>\n      <td>Argentina</td>\n      <td>2007</td>\n      <td>40301927.0</td>\n      <td>Americas</td>\n      <td>75.320</td>\n      <td>12779.379640</td>\n    </tr>\n  </tbody>\n</table>\n</div>"
     },
     "metadata": {},
     "execution_count": 22
    }
   ],
   "source": [
    "import matplotlib.pyplot as plt \n",
    "import pandas as pd \n",
    "import numpy as np\n",
    "\n",
    "df = pd.read_csv(\"gapminder.csv\", usecols=[1, 2, 3, 4, 5, 6])\n",
    "df.index = np.array(list(df.index)) + 1\n",
    "df.head()"
   ]
  },
  {
   "cell_type": "code",
   "execution_count": null,
   "metadata": {},
   "outputs": [],
   "source": []
  }
 ]
}